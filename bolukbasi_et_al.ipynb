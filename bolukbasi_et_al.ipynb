{
 "cells": [
  {
   "cell_type": "markdown",
   "metadata": {},
   "source": [
    "# Reproducing Bolukbasi et al. (2016)\n",
    "\n",
    "This reproduces a subset of the results from Bolukbasi et al.'s 2016 paper *Man is to Computer Programmer as Woman is to Homemaker? Debiasing Word Embeddings*. [[source]](https://arxiv.org/pdf/1607.06520.pdf)\n",
    "\n",
    "The authors show that gender bias is captured by a subspace in the word embedding and that gender-neutral words are linearly separable from words that are gendered by definition (gender-specific words). The authors also provide a methodology for modifying word embeddings to remove gender stereotypes without losing desired associations, which they refer to as debiasing."
   ]
  },
  {
   "cell_type": "markdown",
   "metadata": {},
   "source": [
    "## Step 0: Setup"
   ]
  },
  {
   "cell_type": "code",
   "execution_count": 1,
   "metadata": {},
   "outputs": [],
   "source": [
    "import matplotlib.pyplot as plt\n",
    "%matplotlib inline\n",
    "plt.rcParams['figure.figsize'] = [6, 4]\n",
    "import numpy as np\n",
    "\n",
    "from gensim.models import KeyedVectors\n",
    "from sklearn.svm import LinearSVC\n",
    "\n",
    "import helpers"
   ]
  },
  {
   "cell_type": "markdown",
   "metadata": {},
   "source": [
    "###  Load and pre-process word vectors\n",
    "\n",
    "The paper uses the popular publicly-available 300-dimensional word2vec embedding trained on a corpus of Google News texts consisting of 3 million English words and terms. [[source]](https://code.google.com/archive/p/word2vec/)\n",
    "\n",
    "Bolukbasi et al. normalize the vector representations of the 50,000 most frequent words and discard all words that consist of at least 20 characters or include upper-case letters, digits, or punctuation were discarded. They keep a total of 26,377 words after filtering. On occasion they use the full set of word embeddings."
   ]
  },
  {
   "cell_type": "code",
   "execution_count": 2,
   "metadata": {},
   "outputs": [
    {
     "data": {
      "text/plain": [
       "26379"
      ]
     },
     "execution_count": 2,
     "metadata": {},
     "output_type": "execute_result"
    }
   ],
   "source": [
    "# load the roughly most frequent 50,000 words and normalize\n",
    "model = KeyedVectors.load_word2vec_format('GoogleNews-vectors-negative300.bin', binary=True, limit=50000)\n",
    "model.init_sims(replace=True)\n",
    "assert(np.linalg.norm(model['she']) == 1.0)\n",
    "\n",
    "# find short words without upper-case letters, digits, or punctuations\n",
    "clean_words = helpers.filter_model(model)\n",
    "len(clean_words)"
   ]
  },
  {
   "cell_type": "markdown",
   "metadata": {},
   "source": [
    "### Sanity check for gender-specific words\n",
    "\n",
    "Bolukbasi et al. identify 218 gender-specific words whose definitions include female, male, woman, man, girl, boy, sister, brother, daughter, son, grandmother, grandfather, wife, or husband. We ensure that all of their gender-specific words are in the filtered set of word embeddings."
   ]
  },
  {
   "cell_type": "code",
   "execution_count": 3,
   "metadata": {},
   "outputs": [
    {
     "data": {
      "text/plain": [
       "(218,)"
      ]
     },
     "execution_count": 3,
     "metadata": {},
     "output_type": "execute_result"
    }
   ],
   "source": [
    "with open('data/gender_specific_words.txt', \"r\") as file_object:\n",
    "    gender_words = file_object.read()[:-1]\n",
    "gender_words = np.asarray(gender_words.split(', '))\n",
    "\n",
    "assert(np.sum(np.isin(gender_words, clean_words, invert=True)) == 0)\n",
    "gender_words.shape"
   ]
  },
  {
   "cell_type": "markdown",
   "metadata": {},
   "source": [
    "### Selected word vector analogies\n",
    "\n",
    "Bolukbasi et al. found that many word vector analogies show gender bias and exhibit stereotypes. The following shows a few select word vector analogies. The comments are Bolukbasi et al.'s solutions to the analogies as mentioned in the paper."
   ]
  },
  {
   "cell_type": "code",
   "execution_count": 4,
   "metadata": {},
   "outputs": [
    {
     "name": "stdout",
     "output_type": "stream",
     "text": [
      "man : computer_programmer :: woman : homemaker\n",
      "man : king :: woman : queen\n",
      "father : doctor :: mother : nurse\n",
      "john : computer_programmer :: mary : graphic_designer\n",
      "he : coward :: she : slut\n",
      "she : grandmother :: he : grandfather\n"
     ]
    }
   ],
   "source": [
    "# we need the full model for this step\n",
    "full_model = KeyedVectors.load_word2vec_format('GoogleNews-vectors-negative300.bin', binary=True)\n",
    "full_model.init_sims(replace=True)\n",
    "\n",
    "analogies = [\n",
    "    ['man', 'computer_programmer', 'woman'], # homemaker\n",
    "    ['man', 'king', 'woman'], # queen\n",
    "    ['father', 'doctor', 'mother'], # nurse\n",
    "    ['john', 'computer_programmer', 'mary'], # homemaker - different!\n",
    "    ['he', 'coward', 'she'], # whore - different!\n",
    "    ['she', 'grandmother', 'he'], # grandfather\n",
    "]\n",
    "\n",
    "for a in analogies:\n",
    "    result = full_model.most_similar(positive=[a[2], a[1]], negative=[a[0]], topn=1)[0][0]\n",
    "    print('{} : {} :: {} : {}'.format(a[0], a[1], a[2], result))"
   ]
  },
  {
   "cell_type": "markdown",
   "metadata": {},
   "source": [
    "### Generating analogies\n",
    "\n",
    "We can also generate analogies in the form of he : she :: x : y with Bolukbasi et al.'s method (described in Section 4). Since we only consider the most frequent 2000 words due to computational cost, we fail to find the more niche, biased analogies that Bolukbasi et al. mention in their paper. We show the ten highest-scoring analogies along with their score."
   ]
  },
  {
   "cell_type": "code",
   "execution_count": 5,
   "metadata": {},
   "outputs": [
    {
     "data": {
      "text/plain": [
       "3517"
      ]
     },
     "execution_count": 5,
     "metadata": {},
     "output_type": "execute_result"
    }
   ],
   "source": [
    "analogies = helpers.generate_analogies('she', 'he', model, candidates=clean_words, num=2000)\n",
    "len(analogies)"
   ]
  },
  {
   "cell_type": "code",
   "execution_count": 6,
   "metadata": {
    "scrolled": false
   },
   "outputs": [
    {
     "data": {
      "text/plain": [
       "[('she : he :: her : his', 0.9077807068824768),\n",
       " ('she : he :: woman : man', 0.7530544400215149),\n",
       " ('she : he :: daughter : son', 0.6747985482215881),\n",
       " ('she : he :: girl : boy', 0.6581321954727173),\n",
       " ('she : he :: mother : father', 0.6074056625366211),\n",
       " ('she : he :: spokeswoman : spokesman', 0.5979806184768677),\n",
       " ('she : he :: sister : brother', 0.5973289012908936),\n",
       " ('she : he :: girls : boys', 0.595537543296814),\n",
       " ('she : he :: daughter : father', 0.5538747310638428),\n",
       " ('she : he :: daughter : brother', 0.5529952645301819)]"
      ]
     },
     "execution_count": 6,
     "metadata": {},
     "output_type": "execute_result"
    }
   ],
   "source": [
    "analogies[:10]"
   ]
  },
  {
   "cell_type": "markdown",
   "metadata": {},
   "source": [
    "## Step 1: Identify the gender subspace\n",
    "\n",
    "Bolukbasi et al. use the centered difference vectors of ten pairs of gender words (defining sets) to identify the gender subspace. Applying PCA to the difference vectors reveals that the direction represented by the first eigenvector captures the majority of variance in these vectors.\n",
    "\n",
    "### Reproduce Fig. 6\n",
    "\n",
    "We show the explained variance for the first ten eigenvectors after applying PCA to (1) Bolukbasi et al.'s ten defining pairs for gender and (2) ten randomly sampled pairs averaged over 100 tries to reproduce Figure 6 in their paper. Bolukbasi et al. argue that the decrase in explained variance is much more gradual for (2), suggesting that the large drop in explained variance between the first and second eigenvector for (1) is significant.\n",
    "\n"
   ]
  },
  {
   "cell_type": "code",
   "execution_count": 7,
   "metadata": {},
   "outputs": [
    {
     "data": {
      "image/png": "[encoded data removed]",
      "text/plain": [
       "<Figure size 432x288 with 1 Axes>"
      ]
     },
     "metadata": {
      "needs_background": "light"
     },
     "output_type": "display_data"
    },
    {
     "data": {
      "image/png": "[encoded data removed]",
      "text/plain": [
       "<Figure size 432x288 with 1 Axes>"
      ]
     },
     "metadata": {
      "needs_background": "light"
     },
     "output_type": "display_data"
    }
   ],
   "source": [
    "gender_pairs = [\n",
    "    ('she', 'he'),\n",
    "    ('her', 'his'),\n",
    "    ('woman', 'man'),\n",
    "    ('Mary', 'John'),\n",
    "    ('herself', 'himself'),\n",
    "    ('daughter', 'son'),\n",
    "    ('mother', 'father'),\n",
    "    ('gal', 'guy'),\n",
    "    ('girl', 'boy'),\n",
    "    ('female', 'male')\n",
    "]\n",
    "\n",
    "helpers.figure_6(model, k=10, sets=gender_pairs)\n",
    "helpers.figure_6(model)"
   ]
  },
  {
   "cell_type": "markdown",
   "metadata": {},
   "source": [
    "### Find the gender subspace\n",
    "\n",
    "We can now find the gender subspace by applying PCA to the centered difference vectors as described in Section 6, Step 1. Looking at the cosine similarity of each defining pair to the subspace, we can see that some pairs such as ('herself', 'himself') are closer to the final subspace than others, e.g. ('female', 'male')."
   ]
  },
  {
   "cell_type": "code",
   "execution_count": 8,
   "metadata": {},
   "outputs": [
    {
     "name": "stdout",
     "output_type": "stream",
     "text": [
      "('she', 'he'): similarity = 0.945\n",
      "('her', 'his'): similarity = 0.914\n",
      "('woman', 'man'): similarity = 0.821\n",
      "('Mary', 'John'): similarity = 0.567\n",
      "('herself', 'himself'): similarity = 0.949\n",
      "('daughter', 'son'): similarity = 0.749\n",
      "('mother', 'father'): similarity = 0.692\n",
      "('gal', 'guy'): similarity = 0.71\n",
      "('girl', 'boy'): similarity = 0.743\n",
      "('female', 'male'): similarity = 0.352\n"
     ]
    }
   ],
   "source": [
    "B = helpers.identify_subspace(gender_pairs, model, k=1, compare=True)[0]"
   ]
  },
  {
   "cell_type": "markdown",
   "metadata": {},
   "source": [
    "## Step 1.5: Learn a classifier for gender-specific/neutral words\n",
    "\n",
    "Following Section 7 of Bolukbasi et al., we train a linear classifier to identify gender-specific and gender-neutral words. Our training data is the set of 26,379 filtered words, and we predict for the full set of 3 million word embeddings."
   ]
  },
  {
   "cell_type": "code",
   "execution_count": 9,
   "metadata": {},
   "outputs": [
    {
     "name": "stdout",
     "output_type": "stream",
     "text": [
      "Number of embeddings: 3000000\n",
      "Number of gender words: 6366\n"
     ]
    }
   ],
   "source": [
    "clf = LinearSVC(C=1.0, tol=0.0001)\n",
    "clf.fit(model[clean_words], np.isin(clean_words, gender_words))\n",
    "\n",
    "vocab = np.array(list(full_model.vocab.keys()))\n",
    "vectors = full_model[vocab]\n",
    "predictions = clf.predict(vectors)\n",
    "print('Number of embeddings: {}'.format(len(predictions)))\n",
    "print('Number of gender words: {}'.format(np.sum(predictions)))"
   ]
  },
  {
   "cell_type": "markdown",
   "metadata": {},
   "source": [
    "Bolukbasi et al. identify a total of 6,449 gender-specific words. Some examples are below:"
   ]
  },
  {
   "cell_type": "code",
   "execution_count": 10,
   "metadata": {},
   "outputs": [
    {
     "data": {
      "text/plain": [
       "array(['He', 'her', 'she', 'She', 'man', 'women', 'men', 'woman', 'wife',\n",
       "       'son', 'mother', 'father', 'daughter', 'husband', 'girls', 'girl',\n",
       "       'Her', 'boy', 'boys', 'brother', 'sister', 'Women', 'male',\n",
       "       'herself', 'brothers', 'dad', 'actress', 'mom', 'sons',\n",
       "       'girlfriend'], dtype='<U98')"
      ]
     },
     "execution_count": 10,
     "metadata": {},
     "output_type": "execute_result"
    }
   ],
   "source": [
    "# most common gender words\n",
    "vocab[predictions][:30]"
   ]
  },
  {
   "cell_type": "code",
   "execution_count": 11,
   "metadata": {},
   "outputs": [
    {
     "data": {
      "text/plain": [
       "array(['Cindy_Iannarelli', 'Prince_Tamino', 'Alfred_Ginglen',\n",
       "       'idol_Marilyn_Monroe', 'Tima', 'Parvathamma', 'Sylvestor',\n",
       "       'Jerusalem_Shaare_Zedek', 'Huerkamp', 'Buyuk', 'Mahalko',\n",
       "       'Walburga', 'outfielder_Bobby_Higginson', 'nephews', 'paramour',\n",
       "       'Rani_Padmini', 'Arjun_Punj', 'Spanik', 'Emraan', 'Nijinsky_II'],\n",
       "      dtype='<U98')"
      ]
     },
     "execution_count": 11,
     "metadata": {},
     "output_type": "execute_result"
    }
   ],
   "source": [
    "# randomly sampled gender words\n",
    "np.random.choice(vocab[predictions], 20)"
   ]
  },
  {
   "cell_type": "markdown",
   "metadata": {},
   "source": [
    "### Reproduce Fig. 7\n",
    "\n",
    "In Figure 7, Bolukbasi et al. project selected words onto the vector difference between 'he' and 'she' (x-axis). The x-axis represents the decision boundary between gender-specific (below) and gender-neutral words (above). The absolute distance to the x-axis represents the distance to the decision boundary."
   ]
  },
  {
   "cell_type": "code",
   "execution_count": 12,
   "metadata": {},
   "outputs": [
    {
     "data": {
      "image/png": "[encoded data removed]",
      "text/plain": [
       "<Figure size 720x432 with 1 Axes>"
      ]
     },
     "metadata": {
      "needs_background": "light"
     },
     "output_type": "display_data"
    }
   ],
   "source": [
    "with open('data/figure_7_words.txt', \"r\") as file_object:\n",
    "    figure_7_words = np.array(file_object.read()[:-1].split(' '))\n",
    "\n",
    "plt.rcParams['figure.figsize'] = [10, 6]\n",
    "helpers.figure_7(figure_7_words, clf, model)"
   ]
  },
  {
   "cell_type": "markdown",
   "metadata": {},
   "source": [
    "## Step 2a: Hard debiasing\n",
    "\n",
    "Hard debiasing works by ***neutralizing*** gender-neutral words and ***equalizing*** gender-specific words with otherwise equivalent meanings. Soft debiasing is omitted for this work.\n",
    "\n",
    "Neutralized words are reembedded such that their vectors are orthogonal to the gender subspace. Equalized words are reembedded such that otherwise equivalent words such as 'father' and 'mother' only differ in the gender subspace, with all other dimensions being set to their average.\n",
    "\n",
    "### Examples"
   ]
  },
  {
   "cell_type": "code",
   "execution_count": 13,
   "metadata": {},
   "outputs": [],
   "source": [
    "# gender-neutral words exhibiting gender stereotypes\n",
    "stereotypes = [\n",
    "    ('midwife', 'doctor'),\n",
    "    ('sewing', 'carpentry'),\n",
    "    ('nurse', 'surgeon'),\n",
    "    ('softball', 'baseball')\n",
    "]\n",
    "\n",
    "# gender-specific words\n",
    "appropriate = [\n",
    "    ('her', 'his'),\n",
    "    ('she', 'he'),\n",
    "    ('mother', 'father'),\n",
    "    ('spokeswoman', 'spokesman')\n",
    "]\n",
    "\n",
    "B = helpers.identify_subspace(gender_pairs, model, k=1)[0]"
   ]
  },
  {
   "cell_type": "code",
   "execution_count": 14,
   "metadata": {},
   "outputs": [
    {
     "name": "stdout",
     "output_type": "stream",
     "text": [
      "Cosine Similarity with subspace before and after debiasing:\n",
      "('midwife', 'doctor'): before=0.3, after=0.0\n",
      "('sewing', 'carpentry'): before=0.39, after=0.0\n",
      "('nurse', 'surgeon'): before=0.37, after=0.0\n",
      "('softball', 'baseball'): before=0.44, after=0.0\n"
     ]
    }
   ],
   "source": [
    "_model = helpers.debias(stereotypes, B, model, equal=False, compare=True)"
   ]
  },
  {
   "cell_type": "code",
   "execution_count": 15,
   "metadata": {},
   "outputs": [
    {
     "name": "stdout",
     "output_type": "stream",
     "text": [
      "Cosine Similarity with subspace before and after debiasing:\n",
      "('her', 'his'): before=0.91, after=0.99\n",
      "('she', 'he'): before=0.95, after=0.99\n",
      "('mother', 'father'): before=0.69, after=0.99\n",
      "('spokeswoman', 'spokesman'): before=0.68, after=0.99\n"
     ]
    }
   ],
   "source": [
    "_model = helpers.debias(appropriate, B, model, equal=True, compare=True)"
   ]
  },
  {
   "cell_type": "markdown",
   "metadata": {},
   "source": [
    "### Fig. 7 after neutralizing gender-neutral words\n",
    "\n",
    "We neutralize all words that the classifier considers gender-neutral and plot them. We do not change the words that the classifier considers gender-specific since equalizing them requires manually assembling equality sets. Note that the classifier is imperfect: for example, 'he' is classified as gender-neutral. "
   ]
  },
  {
   "cell_type": "code",
   "execution_count": 16,
   "metadata": {},
   "outputs": [
    {
     "data": {
      "image/png": "[encoded data removed]",
      "text/plain": [
       "<Figure size 720x432 with 1 Axes>"
      ]
     },
     "metadata": {
      "needs_background": "light"
     },
     "output_type": "display_data"
    }
   ],
   "source": [
    "# neutralize all gender-neutral words as determined by classifier\n",
    "N = [word for word in figure_7_words if word not in vocab[predictions]]\n",
    "new_model = helpers.neutralize(N, B, model)\n",
    "\n",
    "# keep gender-specific words as they are\n",
    "for word in figure_7_words:\n",
    "    if word not in new_model:\n",
    "        new_model[word] = model[word]\n",
    "new_model['he'] = model['he']\n",
    "\n",
    "helpers.figure_7(figure_7_words, clf, new_model)"
   ]
  },
  {
   "cell_type": "markdown",
   "metadata": {},
   "source": [
    "We see that all words above the x-axis (i.e. words that the classifier considers to be gender-neutral and that we neutralized) are collapsed roughly onto the y-axis. There is a small discrepancy since the difference between 'she' and 'he' is only an approximation of the gender subspace."
   ]
  }
 ],
 "metadata": {
  "kernelspec": {
   "display_name": "Python 3",
   "language": "python",
   "name": "python3"
  },
  "language_info": {
   "codemirror_mode": {
    "name": "ipython",
    "version": 3
   },
   "file_extension": ".py",
   "mimetype": "text/x-python",
   "name": "python",
   "nbconvert_exporter": "python",
   "pygments_lexer": "ipython3",
   "version": "3.6.10"
  }
 },
 "nbformat": 4,
 "nbformat_minor": 2
}
